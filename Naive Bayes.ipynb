{
 "cells": [
  {
   "cell_type": "markdown",
   "metadata": {},
   "source": [
    "# Naive Bayes on  Amazon Finefood Reviews.\n",
    "\n",
    "Data Source: https://www.kaggle.com/snap/amazon-fine-food-reviews\n",
    "\n",
    "The Amazon Fine Food Reviews dataset consists of reviews of fine foods from Amazon.\n",
    "\n",
    "Number of reviews: 568,454 Number of users: 256,059 Number of products: 74,258 Timespan: Oct 1999 - Oct 2012 Number of Attributes/Columns in data: 10\n",
    "\n",
    "Attribute Information:\n",
    "\n",
    "Id\n",
    "ProductId - unique identifier for the product\n",
    "UserId - unqiue identifier for the user\n",
    "ProfileName\n",
    "HelpfulnessNumerator - number of users who found the review helpful\n",
    "HelpfulnessDenominator - number of users who indicated whether they found the review helpful or not\n",
    "Score - rating between 1 and 5\n",
    "Time - timestamp for the review\n",
    "Summary - brief summary of the review\n",
    "Text - text of the review\n"
   ]
  },
  {
   "cell_type": "code",
   "execution_count": 1,
   "metadata": {},
   "outputs": [],
   "source": [
    "#Importing all the necessary packages.\n",
    "import sqlite3\n",
    "import pandas as pd\n",
    "import numpy as np\n",
    "import string\n",
    "import matplotlib.pyplot as plt\n",
    "import seaborn as sns\n",
    "from sklearn import metrics"
   ]
  },
  {
   "cell_type": "code",
   "execution_count": 2,
   "metadata": {},
   "outputs": [],
   "source": [
    "# Now accesing the database where we have cleaned text. Cleaned Text means, the transformed text which has been Lemmatized, \n",
    "#Stemmed,etc. \n",
    "conn = sqlite3.connect('C:/Users/Swaroop/Desktop/Srikanth Reddy/final1.sqlite')\n",
    "final = pd.read_sql_query(\"\"\"\n",
    "SELECT *\n",
    "FROM Reviews\n",
    "\"\"\", conn) "
   ]
  },
  {
   "cell_type": "code",
   "execution_count": 3,
   "metadata": {},
   "outputs": [],
   "source": [
    "#Converting the Unix time stamp to human readable form.\n",
    "final['Time']=(pd.to_datetime(final['Time'],unit='ms')) "
   ]
  },
  {
   "cell_type": "code",
   "execution_count": 4,
   "metadata": {},
   "outputs": [
    {
     "data": {
      "text/plain": [
       "(364171, 12)"
      ]
     },
     "execution_count": 4,
     "metadata": {},
     "output_type": "execute_result"
    }
   ],
   "source": [
    "#Here we can see that we have almost3.65lakh reviews.\n",
    "final.shape"
   ]
  },
  {
   "cell_type": "code",
   "execution_count": 5,
   "metadata": {},
   "outputs": [],
   "source": [
    "# Sorting the reviews accoring to Time stamp in ascending order so that old reviews remain in train and the latest reviews in test.\n",
    "final2=final.sort_values('Time', axis=0, ascending=True, inplace=False, kind='quicksort', na_position='last')"
   ]
  },
  {
   "cell_type": "code",
   "execution_count": 6,
   "metadata": {},
   "outputs": [
    {
     "data": {
      "text/plain": [
       "(364171, 12)"
      ]
     },
     "execution_count": 6,
     "metadata": {},
     "output_type": "execute_result"
    }
   ],
   "source": [
    "(final2).shape #Taking alll the 3.4lakhs data"
   ]
  },
  {
   "cell_type": "code",
   "execution_count": 7,
   "metadata": {},
   "outputs": [],
   "source": [
    "# Since KNN algorithm has memory problem(memory issue occurs if data is large), we will only take 1lakh points from the final2 datafram.\n",
    "#final2=final2[0:200000]\n",
    "#final2['Score'].value_counts()"
   ]
  },
  {
   "cell_type": "code",
   "execution_count": 8,
   "metadata": {},
   "outputs": [
    {
     "name": "stderr",
     "output_type": "stream",
     "text": [
      "C:\\ProgramData\\Anaconda3\\lib\\site-packages\\sklearn\\cross_validation.py:41: DeprecationWarning: This module was deprecated in version 0.18 in favor of the model_selection module into which all the refactored classes and functions are moved. Also note that the interface of the new CV iterators are different from that of this module. This module will be removed in 0.20.\n",
      "  \"This module will be removed in 0.20.\", DeprecationWarning)\n"
     ]
    }
   ],
   "source": [
    "#Importing all the necessary packages for performing Knn.\n",
    "import numpy as np\n",
    "import pandas as pd\n",
    "import matplotlib.pyplot as plt\n",
    "from sklearn.cross_validation import train_test_split\n",
    "from sklearn.neighbors import KNeighborsClassifier\n",
    "from sklearn.metrics import accuracy_score\n",
    "from sklearn.cross_validation import cross_val_score\n",
    "from collections import Counter\n",
    "from sklearn.metrics import accuracy_score\n",
    "from sklearn import cross_validation\n",
    "from sklearn.decomposition import TruncatedSVD\n",
    "from sklearn.metrics import accuracy_score,precision_score,recall_score,confusion_matrix,classification_report,f1_score"
   ]
  },
  {
   "cell_type": "code",
   "execution_count": 9,
   "metadata": {},
   "outputs": [
    {
     "data": {
      "text/plain": [
       "(364171,)"
      ]
     },
     "execution_count": 9,
     "metadata": {},
     "output_type": "execute_result"
    }
   ],
   "source": [
    "# Part I\n",
    "# ============================== Data Preprocessing ===========================================\n",
    "#Here we will be performing Naive Bayes on only reviews, thats why we take only CleanedText column in X.\n",
    "#in variable 'y', we keep only Scores(positive,negative) for a the corresponding reviews. \n",
    "X = final2.CleanedText.values # end index is exclusive\n",
    "y = final2.Score.values # showing you two ways of indexing a pandas df\n",
    "X.shape # We can see that there are 3.6 lakh reviews(rows)\n"
   ]
  },
  {
   "cell_type": "code",
   "execution_count": 10,
   "metadata": {},
   "outputs": [],
   "source": [
    "X_train, X_test, y_train, y_test = cross_validation.train_test_split(X, y, test_size=0.2, random_state=0)"
   ]
  },
  {
   "cell_type": "code",
   "execution_count": 20,
   "metadata": {},
   "outputs": [],
   "source": [
    "from sklearn.preprocessing import LabelBinarizer\n",
    "from sklearn.naive_bayes import MultinomialNB\n",
    "\n",
    "def naiveB(X_in,y_in,X_tst,y_tst,VectorizationType):\n",
    "    lb = LabelBinarizer()\n",
    "    y_in = np.array([number[0] for number in lb.fit_transform(y_in)]) \n",
    "    y_tst= np.array([number[0] for number in lb.fit_transform(y_tst)])\n",
    "    neighbors=[0.00001, 0.0001, 0.001, 0.01, 1, 10, 100] # this is the range of alphas\n",
    "    cv_scores = []\n",
    "    \n",
    "    for n in neighbors:\n",
    "        nb = MultinomialNB(alpha=n)\n",
    "        scores = cross_val_score(nb, X_in, y_in, cv=10, scoring='f1')\n",
    "        cv_scores.append(scores.mean())\n",
    "    MSE = [1 - x for x in cv_scores]# Misclassification Error\n",
    "    optimal_alpha = neighbors[MSE.index(min(MSE))] # The value with leasrt misclassifcation error.\n",
    "    \n",
    "    best_nb = MultinomialNB(alpha=optimal_alpha)\n",
    "\n",
    "    best_nb.fit(X_in, y_in)\n",
    "\n",
    "    pred = best_nb.predict(X_tst)\n",
    "    \n",
    "    #acc = accuracy_score(y_tst, pred) * 100\n",
    "    \n",
    "    score=best_nb.score(X_tst, y_tst)\n",
    "    \n",
    "    top_negatives = best_nb.feature_log_prob_[0, :].argsort() #Acquiring the negative word's probabilities\n",
    "    top_positives = best_nb.feature_log_prob_[1, :].argsort() #Acquiring the positive word's probabilities\n",
    "    \n",
    "    print('Details for ',VectorizationType,'Vectorization:')\n",
    "    print('*'*100)\n",
    "    print('\\n')\n",
    "    print('The F1 scoring on Test data is:', score)\n",
    "    print('\\n')\n",
    "    print('Accuracy for MultinomialNB algorithm with alpha value =',optimal_alpha,', calculated using F1 as scoring metric is ' ,np.round(accuracy_score(y_tst, pred)*100))\n",
    "        \n",
    "    #plot misclassification error vs k \n",
    "    plt.plot(neighbors, MSE)\n",
    "\n",
    "    plt.plot(neighbors,cv_scores,'k') \n",
    "    plt.xlabel('Alpha Value')\n",
    "    plt.ylabel('CV-Scores')\n",
    "    plt.title('Alpha Value vs CV-Scores')\n",
    "    plt.show()\n",
    "    print('*' * 100)\n",
    "    print('\\n')\n",
    "    print(\"The misclassification error for each alpha value is : \", np.round(MSE,3))\n",
    "    print('\\n')\n",
    "    print('F1 score for MultinomialNB algorithm with alpha =',optimal_alpha,' is ' , np.round((f1_score(y_tst, pred,average= 'macro')*100),decimals = 2))\n",
    "    print('\\n')\n",
    "    print('Recall for MultinomialNB agorithm with alpha =',optimal_alpha,' is ' , np.round((recall_score(y_tst, pred,average= 'macro')*100),decimals = 2))\n",
    "    print('\\n')\n",
    "    print('Precision for MultinomialNB algorithm with aplha =',optimal_alpha,' is ' , np.round((precision_score(y_tst, pred,average= 'macro')*100),decimals = 2))\n",
    "    print('\\n')\n",
    "    print ('\\n Classification report for MultinomialNB algorithm with alpha =',optimal_alpha,' is \\n ' , classification_report(y_tst,pred))\n",
    "    cm = confusion_matrix(y_tst, pred)\n",
    "    class_label = [\"negative\", \"positive\"]\n",
    "    df_cm = pd.DataFrame(cm, index = class_label, columns = class_label)\n",
    "    sns.heatmap(df_cm, annot = True, fmt = \"d\")\n",
    "    plt.title(\"Confusion Matrix\")\n",
    "    plt.xlabel(\"Predicted Label\")\n",
    "    plt.ylabel(\"True Label\")\n",
    "    plt.show()\n",
    "    \n",
    "    print('\\n The top Negative words:')\n",
    "    print(np.take(vect.get_feature_names(), top_negatives[:20]))\n",
    "    print('\\n')\n",
    "    print('\\n Top Positive Words:')\n",
    "    print(np.take(vect.get_feature_names(), top_positives[:20]))\n",
    "    \n",
    "    return best_nb\n",
    "    \n",
    "    "
   ]
  },
  {
   "cell_type": "markdown",
   "metadata": {},
   "source": [
    "Here the dataset is highly imbalanced. So while calculating the correct hyperparameter, we cannnot use sccuracy as scoring metric. We have can choose either Precision or Recall, because these work very well on imbalanced data sets. Before finding the Hyperparameter, we have to change the Score cloumn values(positive,negative) to (1,0) respectively.\n"
   ]
  },
  {
   "cell_type": "markdown",
   "metadata": {},
   "source": [
    "### Naive Bayes on Bag of Words"
   ]
  },
  {
   "cell_type": "code",
   "execution_count": 12,
   "metadata": {},
   "outputs": [
    {
     "data": {
      "text/plain": [
       "(291336, 63748)"
      ]
     },
     "execution_count": 12,
     "metadata": {},
     "output_type": "execute_result"
    }
   ],
   "source": [
    "from sklearn.feature_extraction.text import CountVectorizer\n",
    "vect = CountVectorizer() #in scikit-learn\n",
    "bow_train = vect.fit_transform(X_train) # Here we fit transform to the data\n",
    "\n",
    "bow_train.get_shape() # We can see that the data has 80k rows and 33491 columns(unique words)."
   ]
  },
  {
   "cell_type": "code",
   "execution_count": 13,
   "metadata": {},
   "outputs": [
    {
     "data": {
      "text/plain": [
       "(72835, 63748)"
      ]
     },
     "execution_count": 13,
     "metadata": {},
     "output_type": "execute_result"
    }
   ],
   "source": [
    "bow_test=vect.transform(X_test) # Transforming the test data.\n",
    "bow_test.get_shape()"
   ]
  },
  {
   "cell_type": "code",
   "execution_count": 21,
   "metadata": {},
   "outputs": [
    {
     "name": "stdout",
     "output_type": "stream",
     "text": [
      "Details for  Bow Vectorization:\n",
      "****************************************************************************************************\n",
      "\n",
      "\n",
      "The F1 scoring on Test data is: 0.9048808951740235\n",
      "\n",
      "\n",
      "Accuracy for MultinomialNB algorithm with alpha value = 1 , calculated using F1 as scoring metric is  90.0\n"
     ]
    },
    {
     "data": {
      "image/png": "[encoded data removed]",
      "text/plain": [
       "<Figure size 432x288 with 1 Axes>"
      ]
     },
     "metadata": {},
     "output_type": "display_data"
    },
    {
     "name": "stdout",
     "output_type": "stream",
     "text": [
      "****************************************************************************************************\n",
      "\n",
      "\n",
      "The misclassification error for each alpha value is :  [0.062 0.062 0.061 0.06  0.057 0.066 0.085]\n",
      "\n",
      "\n",
      "F1 score for MultinomialNB algorithm with alpha = 1  is  81.95\n",
      "\n",
      "\n",
      "Recall for MultinomialNB agorithm with alpha = 1  is  81.66\n",
      "\n",
      "\n",
      "Precision for MultinomialNB algorithm with aplha = 1  is  82.24\n",
      "\n",
      "\n",
      "\n",
      " Classification report for MultinomialNB algorithm with alpha = 1  is \n",
      "               precision    recall  f1-score   support\n",
      "\n",
      "          0       0.70      0.69      0.70     11496\n",
      "          1       0.94      0.95      0.94     61339\n",
      "\n",
      "avg / total       0.90      0.90      0.90     72835\n",
      "\n"
     ]
    },
    {
     "data": {
      "image/png": "[encoded data removed]",
      "text/plain": [
       "<Figure size 432x288 with 2 Axes>"
      ]
     },
     "metadata": {},
     "output_type": "display_data"
    },
    {
     "name": "stdout",
     "output_type": "stream",
     "text": [
      "\n",
      " The top Negative words:\n",
      "['aa' 'muffuletta' 'mufin' 'mugg' 'muggi' 'muggin' 'muggl' 'mugi'\n",
      " 'mugicha' 'muffl' 'mugo' 'mugwort' 'muh' 'muham' 'muhci' 'muito'\n",
      " 'muixtur' 'mujadara' 'mujer' 'mugsi']\n",
      "\n",
      "\n",
      "\n",
      " Top Positive Words:\n",
      "['possibili' 'brusher' 'embaress' 'brusel' 'sludgewat' 'sluge' 'litterali'\n",
      " 'brus' 'embassas' 'litigi' 'lithgow' 'liteweight' 'litetron' 'smackaroo'\n",
      " 'slse' 'smaeth' 'embolden' 'smake' 'embrass' 'smallth']\n",
      "Wall time: 17.7 s\n"
     ]
    }
   ],
   "source": [
    "%%time\n",
    "from sklearn.naive_bayes import MultinomialNB\n",
    "nba=naiveB(bow_train,y_train,bow_test,y_test,'Bow')"
   ]
  },
  {
   "cell_type": "markdown",
   "metadata": {},
   "source": [
    "### Naive Bayes on Tf-Idf  "
   ]
  },
  {
   "cell_type": "code",
   "execution_count": 22,
   "metadata": {},
   "outputs": [],
   "source": [
    "from sklearn.feature_extraction.text import TfidfTransformer\n",
    "from sklearn.feature_extraction.text import TfidfVectorizer\n",
    "from sklearn.metrics import confusion_matrix\n",
    "from sklearn import metrics\n",
    "from sklearn.metrics import roc_curve, auc"
   ]
  },
  {
   "cell_type": "code",
   "execution_count": 23,
   "metadata": {},
   "outputs": [
    {
     "data": {
      "text/plain": [
       "(291336, 2522924)"
      ]
     },
     "execution_count": 23,
     "metadata": {},
     "output_type": "execute_result"
    }
   ],
   "source": [
    "vect = TfidfVectorizer(ngram_range=(1,2))\n",
    "tfidf_train = vect.fit_transform(X_train)\n",
    "tfidf_train.shape"
   ]
  },
  {
   "cell_type": "code",
   "execution_count": 24,
   "metadata": {},
   "outputs": [],
   "source": [
    "tfidf_test=vect.transform(X_test)"
   ]
  },
  {
   "cell_type": "code",
   "execution_count": 25,
   "metadata": {},
   "outputs": [
    {
     "name": "stdout",
     "output_type": "stream",
     "text": [
      "Details for  TFIDF Vectorization:\n",
      "****************************************************************************************************\n",
      "\n",
      "\n",
      "The F1 scoring on Test data is: 0.8938147868469829\n",
      "\n",
      "\n",
      "Accuracy for MultinomialNB algorithm with alpha value = 0.001 , calculated using F1 as scoring metric is  89.0\n"
     ]
    },
    {
     "data": {
      "image/png": "[encoded data removed]",
      "text/plain": [
       "<Figure size 432x288 with 1 Axes>"
      ]
     },
     "metadata": {},
     "output_type": "display_data"
    },
    {
     "name": "stdout",
     "output_type": "stream",
     "text": [
      "****************************************************************************************************\n",
      "\n",
      "\n",
      "The misclassification error for each alpha value is :  [0.064 0.06  0.055 0.056 0.085 0.085 0.085]\n",
      "\n",
      "\n",
      "F1 score for MultinomialNB algorithm with alpha = 0.001  is  73.6\n",
      "\n",
      "\n",
      "Recall for MultinomialNB agorithm with alpha = 0.001  is  68.59\n",
      "\n",
      "\n",
      "Precision for MultinomialNB algorithm with aplha = 0.001  is  88.48\n",
      "\n",
      "\n",
      "\n",
      " Classification report for MultinomialNB algorithm with alpha = 0.001  is \n",
      "               precision    recall  f1-score   support\n",
      "\n",
      "          0       0.87      0.38      0.53     11496\n",
      "          1       0.90      0.99      0.94     61339\n",
      "\n",
      "avg / total       0.89      0.89      0.88     72835\n",
      "\n"
     ]
    },
    {
     "data": {
      "image/png": "[encoded data removed]",
      "text/plain": [
       "<Figure size 432x288 with 2 Axes>"
      ]
     },
     "metadata": {},
     "output_type": "display_data"
    },
    {
     "name": "stdout",
     "output_type": "stream",
     "text": [
      "\n",
      " The top Negative words:\n",
      "['aa' 'one recogn' 'one recipi' 'one receptionist' 'one receipt'\n",
      " 'one receipi' 'one recalcitr' 'one reasonabley' 'one realim' 'one reali'\n",
      " 'one readili' 'one readi' 'one reader' 'one reach' 'one raynaud'\n",
      " 'one raw' 'one raven' 'one rapunzel' 'one rang' 'one rancilio']\n",
      "\n",
      "\n",
      "\n",
      " Top Positive Words:\n",
      "['pictur longtim' 'japans anim' 'unfortun greasi' 'cake crave'\n",
      " 'cake crappi' 'japantown san' 'japantown starbuck' 'japantown tri'\n",
      " 'deg usual' 'safer greeni' 'japans' 'safer got' 'japens' 'cake costco'\n",
      " 'unfortun hate' 'japens sencha' 'unfortun hazelnut' 'unfortun head'\n",
      " 'safer free' 'safer fda']\n"
     ]
    },
    {
     "data": {
      "text/plain": [
       "MultinomialNB(alpha=0.001, class_prior=None, fit_prior=True)"
      ]
     },
     "execution_count": 25,
     "metadata": {},
     "output_type": "execute_result"
    }
   ],
   "source": [
    "naiveB(tfidf_train,y_train,tfidf_test,y_test,'TFIDF')"
   ]
  },
  {
   "cell_type": "code",
   "execution_count": 27,
   "metadata": {},
   "outputs": [],
   "source": [
    "from prettytable import PrettyTable\n",
    "    \n",
    "x = PrettyTable()\n",
    "\n",
    "x.field_names = [\"Model Name\", \"Hyper Parameter(alpha)\", \"Accuracy\"]\n"
   ]
  },
  {
   "cell_type": "code",
   "execution_count": 28,
   "metadata": {},
   "outputs": [
    {
     "name": "stdout",
     "output_type": "stream",
     "text": [
      "+------------------------+------------------------+----------+\n",
      "|       Model Name       | Hyper Parameter(alpha) | Accuracy |\n",
      "+------------------------+------------------------+----------+\n",
      "|  MultinomialNB on BoW  |           1            |  90.48   |\n",
      "| MultinomialNB on TfIdf |         0.001          |  89.38   |\n",
      "+------------------------+------------------------+----------+\n"
     ]
    }
   ],
   "source": [
    "x.add_row([\"MultinomialNB on BoW\",1,90.48])\n",
    "x.add_row([\"MultinomialNB on TfIdf\",0.001,89.38])\n",
    "print(x)"
   ]
  },
  {
   "cell_type": "markdown",
   "metadata": {},
   "source": [
    "## Conclusion"
   ]
  },
  {
   "cell_type": "markdown",
   "metadata": {},
   "source": [
    "1. After performing Bow and Tf-Idf on all the 3.6 lakhs reviews, it is clear that Multinomial Naive Bayes has given the almost same accuracy on both BOW and Tf-Idf, but Tf-Idf has performed better by a small margin. "
   ]
  }
 ],
 "metadata": {
  "kernelspec": {
   "display_name": "Python 3",
   "language": "python",
   "name": "python3"
  },
  "language_info": {
   "codemirror_mode": {
    "name": "ipython",
    "version": 3
   },
   "file_extension": ".py",
   "mimetype": "text/x-python",
   "name": "python",
   "nbconvert_exporter": "python",
   "pygments_lexer": "ipython3",
   "version": "3.6.5"
  }
 },
 "nbformat": 4,
 "nbformat_minor": 2
}
